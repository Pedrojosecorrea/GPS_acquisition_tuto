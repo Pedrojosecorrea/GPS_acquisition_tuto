{
 "cells": [
  {
   "cell_type": "markdown",
   "metadata": {},
   "source": [
    "# The GPS Sensor and Autonomous Vehicles "
   ]
  },
  {
   "cell_type": "markdown",
   "metadata": {},
   "source": [
    "<div style=\"background-color:black;color:white;padding:20px;\">\n",
    "<p>M. I. Pedro José Correa Caicedo</p>\n",
    "</div>"
   ]
  },
  {
   "cell_type": "markdown",
   "metadata": {},
   "source": [
    "## 1) Sensors in autonomous vehicles: "
   ]
  },
  {
   "cell_type": "markdown",
   "metadata": {},
   "source": [
    "<img src=\"./images/sensores_car.png\" alt=\"sensor\" width=\"600\" height=\"500\"/>\n",
    "\n",
    "##### Fig. 1. Sensors in autonomous vehicles."
   ]
  },
  {
   "cell_type": "markdown",
   "metadata": {},
   "source": [
    "## 2) Sub systems in autonomous vehicles: "
   ]
  },
  {
   "cell_type": "markdown",
   "metadata": {},
   "source": [
    "<img src=\"./images/sub sistemas.png\" alt=\"sistem\" width=\"700\" height=\"500\"/>\n",
    "\n",
    "##### Fig. 2. Sub systems in autonomous vehicles."
   ]
  },
  {
   "cell_type": "markdown",
   "metadata": {},
   "source": [
    "## 3) GPS operation: "
   ]
  },
  {
   "cell_type": "markdown",
   "metadata": {},
   "source": [
    "<img src=\"./images/satelite.png\" alt=\"satelite\" width=\"900\" height=\"400\"/>\n",
    "\n",
    "##### Fig. 3. GPS satellites. a) Triangulation. b) Obstacles to the signal. "
   ]
  },
  {
   "cell_type": "markdown",
   "metadata": {},
   "source": [
    "#### a) Satellite networks : Global Navigation Satellite Systems (GNSS) \n",
    "\n",
    "<p>1) Global Positioning System (GPS) </p>\n",
    "<p>2) BeiDou Navigation Satellite System (BDS) </p>\n",
    "<p>3) Galileo (European Union) </p>\n",
    "<p>4) Globalnaya Navigazionnaya Sputnikovaya Sistema (GLONASS) </p>\n",
    "<p>5) Indian Regional Navigation Satellite System (IRNSS) </p>\n",
    "<p>6) Quasi-Zenith Satellite System (QZSS) </p>\n",
    "\n",
    "\n",
    "|Red     | País              | Num. Satélites |\n",
    "|--------|-------------------|----------------|\n",
    "|GPS     | United States     |       30+      |\n",
    "|BDS     | China             |       35       |\n",
    "|Galileo | European Union    |       24+      |\n",
    "|GLONASS | Russian Federation|       24+      |\n",
    "|IRNSS   | India             |       7        |\n",
    "|QZSS    | Japan             |       4        |\n",
    "\n",
    "Ref: https://www.gps.gov/systems/gnss/"
   ]
  },
  {
   "cell_type": "markdown",
   "metadata": {},
   "source": [
    "<img src=\"./images/meridi.PNG\" alt=\"lalo\" width=\"500\" height=\"400\"/>\n",
    "\n",
    "Ref: https://journeynorth.org/tm/LongitudeIntro.html"
   ]
  },
  {
   "cell_type": "markdown",
   "metadata": {},
   "source": [
    "#### b)Standard NMEA (National Marine Electronics Association)\n"
   ]
  },
  {
   "cell_type": "markdown",
   "metadata": {},
   "source": [
    "<img src=\"./images/ST_GP.png\" alt=\"satelite\" width=\"900\" height=\"400\"/>\n",
    "\n",
    "##### Fig. 4. Standard NMEA a) GPGGA. b) GPRMC.  "
   ]
  },
  {
   "cell_type": "markdown",
   "metadata": {},
   "source": [
    "|NMEA Header       | Value                  | Description\n",
    "|------------------|------------------------|--------------------------|\n",
    "| StartChar        | $                      | ASCII for 36             |\n",
    "| SentenceName     | GPGGA                  | Identifier               |\n",
    "| Separator        | ,                      | ASCII for 44             |\n",
    "| Data_1 to Data_N | 083445.00,1256.60109,N | latitude and longitude   |\n",
    "| Fix Quality      | 1 or *                 | Quality, parameter       |\n",
    "| HDOP             | 1 or *                 | Horizontal dilution precision|\n",
    "| CheckSum         | For example, 7E        | HEX 8-bit exclusive OR       |\n",
    "\n",
    "Ref: \n",
    "https://es.mathworks.com/help/supportpkg/arduino/ref/read-serial-data-from-a-gps-shield-using-arduino-hardware.html\n"
   ]
  },
  {
   "cell_type": "markdown",
   "metadata": {},
   "source": [
    "<p>Latitude and longitude are given in the format  DDMM.MM:\n",
    "    \n",
    "DD = Degrees \n",
    "\n",
    "MM.MM = Minutes  + (Seconds / 60)</p>"
   ]
  },
  {
   "cell_type": "markdown",
   "metadata": {},
   "source": [
    "## 4) GPS data acquisition:"
   ]
  },
  {
   "cell_type": "markdown",
   "metadata": {},
   "source": [
    "#### Pmod GPS Module Connection (Digilent)"
   ]
  },
  {
   "cell_type": "markdown",
   "metadata": {},
   "source": [
    "<img src=\"./images/conec.png\" alt=\"satelite\" width=\"900\" height=\"400\"/>\n",
    "\n",
    "\n",
    "\n",
    "##### Fig. 5. Sensor connection diagrams. a) connection to the PC, b) connection to the Raspberry Pi. \n",
    "\n",
    "\n",
    "\n",
    "Driver ttl to usb: https://rogerbit.com/wprb/2021/04/solucion-a-pl2303hxa-phased-out-since-2012-please-contact-your-supplier-en-windows-10/"
   ]
  },
  {
   "cell_type": "markdown",
   "metadata": {},
   "source": [
    "#### a)Import library: "
   ]
  },
  {
   "cell_type": "code",
   "execution_count": 1,
   "metadata": {},
   "outputs": [],
   "source": [
    "import serial\n",
    "import time\n",
    "import csv as txt\n",
    "import pynmea2\n",
    "from datetime import datetime\n",
    "import matplotlib.pyplot as plt"
   ]
  },
  {
   "cell_type": "markdown",
   "metadata": {},
   "source": [
    "#### b) Start serial port: "
   ]
  },
  {
   "cell_type": "code",
   "execution_count": 2,
   "metadata": {},
   "outputs": [],
   "source": [
    "port=\"COM4\"\n",
    "br=9600\n",
    "ser=serial.Serial(port,br, timeout=0.5)"
   ]
  },
  {
   "cell_type": "markdown",
   "metadata": {},
   "source": [
    "#### c) Function to read the serial port: "
   ]
  },
  {
   "cell_type": "code",
   "execution_count": 3,
   "metadata": {},
   "outputs": [],
   "source": [
    "def gpsread():\n",
    "    gpsread=ser.readline()\n",
    "    return gpsread"
   ]
  },
  {
   "cell_type": "markdown",
   "metadata": {},
   "source": [
    "<img src=\"./images/datos puros.PNG\" alt=\"satelite\" width=\"700\" height=\"400\"/>\n",
    "\n",
    "\n",
    "##### Fig. 6. Raw Data. "
   ]
  },
  {
   "cell_type": "markdown",
   "metadata": {},
   "source": [
    "#### d) Save the raw data: "
   ]
  },
  {
   "cell_type": "code",
   "execution_count": 4,
   "metadata": {},
   "outputs": [],
   "source": [
    "def gps_raw():\n",
    "    gps=gpsread()\n",
    "    gps_s=gps.decode('utf-8')\n",
    "    savegps=open('Raw_data.txt','a')\n",
    "    savegps.write(gps_s)\n",
    "    \n",
    "    return gps_s"
   ]
  },
  {
   "cell_type": "markdown",
   "metadata": {},
   "source": [
    "<img src=\"./images/datos lim.PNG\" alt=\"satelite\" width=\"600\" height=\"400\"/>\n",
    "\n",
    "##### Fig. 7. Clean data.  "
   ]
  },
  {
   "cell_type": "markdown",
   "metadata": {},
   "source": [
    "#### e) Function to separate the data of interest: "
   ]
  },
  {
   "cell_type": "code",
   "execution_count": 5,
   "metadata": {},
   "outputs": [],
   "source": [
    "def latlon():\n",
    "    gps_s=gps_raw()\n",
    "    global LAT,LON,LAT_D,LON_D,NUMSAT,TIM\n",
    "    LAT='Null'\n",
    "    LON='Null'\n",
    "    NUMSAT='Null'\n",
    "    TIM='Null'\n",
    "    LAT_D='Null'\n",
    "    LON_D='Null'\n",
    "    #if gps.find(b'GGA') > 0:\n",
    "    if gps_s[0:6]=='$GPGGA':\n",
    "        msg = pynmea2.parse(gps_s)\n",
    "        LAT=(msg.latitude)\n",
    "        LAT_D=(msg.lat_dir)\n",
    "        LON=(msg.longitude)\n",
    "        LON_D=(msg.lon_dir)\n",
    "        TIM=(msg.timestamp) \n",
    "        NUMSAT=(msg.num_sats)\n",
    "        #print(LAT_D,LON_D)\n",
    "            \n",
    "    return LAT,LAT_D,LON,LON_D,TIM,NUMSAT\n",
    "    "
   ]
  },
  {
   "cell_type": "markdown",
   "metadata": {},
   "source": [
    "<p>Lat=201836.000; Lon=10049.3330\n",
    "    \n",
    "  Data= DDMM.MM\n",
    "\n",
    ".d = MM.MM / 60\n",
    "    \n",
    "Degrees with decimals  = DD + .d \n",
    "\n",
    "Latitude= 20.54221666666667; Longitude=-100.82304166666667</p>"
   ]
  },
  {
   "cell_type": "markdown",
   "metadata": {},
   "source": [
    "#### f) Run the program and save the data in a .csv: "
   ]
  },
  {
   "cell_type": "code",
   "execution_count": 6,
   "metadata": {},
   "outputs": [
    {
     "name": "stdout",
     "output_type": "stream",
     "text": [
      "20.54241 N -100.8228 W 22:02:21 6\n",
      "20.542361666666668 N -100.822805 W 22:02:22 6\n",
      "20.542328333333334 N -100.82283166666667 W 22:02:23 7\n",
      "20.54237 N -100.82283333333334 W 22:02:24 7\n",
      "20.54237 N -100.822825 W 22:02:25 7\n",
      "20.542386666666665 N -100.822825 W 22:02:26 7\n",
      "20.54240666666667 N -100.822835 W 22:02:27 8\n",
      "20.542395 N -100.82285166666666 W 22:02:28 8\n",
      "20.542403333333333 N -100.82285666666667 W 22:02:29 8\n",
      "20.542401666666667 N -100.82285 W 22:02:30 8\n",
      "20.542368333333332 N -100.82283 W 22:02:31 8\n",
      "20.542331666666666 N -100.822845 W 22:02:32 8\n",
      "20.542346666666667 N -100.82284666666666 W 22:02:33 8\n",
      "20.542361666666668 N -100.82283666666666 W 22:02:34 8\n",
      "20.54238 N -100.82282166666667 W 22:02:35 8\n",
      "20.542381666666667 N -100.82281333333333 W 22:02:36 8\n",
      "20.542383333333333 N -100.82280666666666 W 22:02:37 8\n",
      "Stop\n"
     ]
    }
   ],
   "source": [
    "save=open('gps_adq.csv','w')\n",
    "save.write(\"Lat,Lat_d,Lon,Lon_d,timgps,numsat\\n\")\n",
    "\n",
    "if __name__ == '__main__':\n",
    "    try:\n",
    "        while True:\n",
    "            LAT,LAT_D,LON,LON_D,TIM,NUMSAT=latlon()\n",
    "            if LAT !='Null':\n",
    "                print(LAT,LAT_D,LON,LON_D,TIM,NUMSAT)\n",
    "                save=open('gps_adq.csv','a')      \n",
    "                save.write(str(LAT))\n",
    "                save.write(',')\n",
    "                save.write(str(LAT_D))\n",
    "                save.write(',')\n",
    "                save.write(str(LON))\n",
    "                save.write(',')\n",
    "                save.write(str(LON_D))\n",
    "                save.write(',')\n",
    "                save.write(str(TIM))\n",
    "                save.write(',')\n",
    "                save.write(str(NUMSAT))\n",
    "                save.write('\\n')\n",
    "\n",
    "            # Reset:CTRL + C\n",
    "    except KeyboardInterrupt:\n",
    "        print(\"Stop\")"
   ]
  }
 ],
 "metadata": {
  "kernelspec": {
   "display_name": "Python 3",
   "language": "python",
   "name": "python3"
  },
  "language_info": {
   "codemirror_mode": {
    "name": "ipython",
    "version": 3
   },
   "file_extension": ".py",
   "mimetype": "text/x-python",
   "name": "python",
   "nbconvert_exporter": "python",
   "pygments_lexer": "ipython3",
   "version": "3.6.8"
  }
 },
 "nbformat": 4,
 "nbformat_minor": 4
}
